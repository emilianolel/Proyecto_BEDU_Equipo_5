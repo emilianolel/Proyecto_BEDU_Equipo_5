{
 "cells": [
  {
   "cell_type": "markdown",
   "id": "6f611493",
   "metadata": {},
   "source": [
    "### OBJETIVO \n",
    "\n",
    "- Practicar el uso de APIs y peticiones HTTP.\n",
    "- Automatizar procesos de exploración y limpieza usando `for loops`.\n",
    "- Proteger nuestro código contra errores usando `try except`.\n",
    "\n",
    "#### REQUISITOS \n",
    "\n",
    "- Haber realizado previamente la primer fase de limpieza de tu dataset\n",
    "\n",
    "#### DESARROLLO\n",
    "\n",
    "En este Postwork vamos a dejar descansar un poquito nuestro dataset. La única manera de entender a la perfección cómo utilizar APIs es usándolas. Y eso es lo que vamos a hacer. Vamos a elegir un API y construir un nuevo dataset utilizando peticiones HTTP y concatenaciones. Puede que sea un API que complemente tu dataset original (eso sería lo mejor de lo mejor), o puede simplemente que sea un API que ofrezca información que te parezca interesante. Los pasos a seguir son estos:\n",
    "\n",
    "1. Encuentra un API que quieras explorar. Puedes encontrar una lista enorme de APIs gratuitas [aquí](https://github.com/public-apis/public-apis).\n",
    "2. Crea una cuenta si es necesario.\n",
    "3. Lee la documentación.\n",
    "4. Realiza algunas peticiones de prueba para entender la estructura de los datos (si quieres explorar un poco, puedes intentar haacer peticiones usando [este software](https://www.postman.com/)).\n",
    "5. Automatiza el proceso de realizar peticiones para obtener un dataset considerablemente grande.\n",
    "6. Explora y limpia tu dataset.\n",
    "7. Si has encontrado un dataset que complementa la información de tu dataset original (el que has estado trabajando durante todas las sesiones), ve si puedes unirlos en un solo `DataFrame` que incluya la información útil de ambos.\n",
    "\n",
    "> **Extra**: Puedes también explorar la posibilidad de automatizar algunos de los procesos de limpieza que has realizado con tu dataset. Si encuentras dónde podría ser útil y te animas a hacerlo, recuerda proteger tu código con estructuras `try except` para que la automatización no falle.\n",
    "\n",
    "##### (Para tu entrega final)\n",
    "\n",
    "Esta entrega es opcional. Si quieren unos puntos extras, pueden entregar un Notebook extra donde hagan lo que se pide arriba. No es necesario entregar un documento escrito sobre esta entrega. Simplemente asegúrense que su código esté bien comentado y ordenado."
   ]
  },
  {
   "cell_type": "markdown",
   "id": "e6225f88",
   "metadata": {},
   "source": []
  },
  {
   "cell_type": "code",
   "execution_count": 1,
   "id": "ad8533d8",
   "metadata": {},
   "outputs": [],
   "source": [
    "# Modulos a utilizar\n",
    "import pandas as pd\n",
    "import requests \n",
    "import numpy as np"
   ]
  },
  {
   "cell_type": "markdown",
   "id": "a441274a",
   "metadata": {},
   "source": [
    "Elegimos la **API de Binance**(Una exchange de criptomonedas muy popular). Para obtener precios en velas japoneses de criptomonedas dada una lista de sus nombres. En la [documentación](https://github.com/binance/binance-spot-api-docs/blob/master/rest-api.md) se puede ver los nombres de las columnas de nuestro request. Por los limites de la API solo podemos consultar información de las ultimas 500 horas y no es necesario registrarse en la pagina.\n"
   ]
  },
  {
   "cell_type": "markdown",
   "id": "08aede6a",
   "metadata": {},
   "source": [
    "# Peticiones"
   ]
  },
  {
   "cell_type": "code",
   "execution_count": null,
   "id": "5c4f625b",
   "metadata": {},
   "outputs": [],
   "source": [
    "# Precios en hora del Bitcoin en \"dolares\"----> BTCUSDT \n",
    "url = 'https://api.binance.com/api/v3/klines' # Velas Japonesas\n",
    "params = {\n",
    "  'symbol': 'BTCUSDT',\n",
    "  'interval': '1h'\n",
    "}\n",
    "response = requests.get(url, params=params)\n",
    "klines = response.json()\n",
    "klines"
   ]
  },
  {
   "cell_type": "code",
   "execution_count": 3,
   "id": "3d018719",
   "metadata": {},
   "outputs": [
    {
     "data": {
      "text/plain": [
       "500"
      ]
     },
     "execution_count": 3,
     "metadata": {},
     "output_type": "execute_result"
    }
   ],
   "source": [
    "len(klines)"
   ]
  },
  {
   "cell_type": "code",
   "execution_count": 4,
   "id": "7c837d83",
   "metadata": {},
   "outputs": [],
   "source": [
    "# Función para transformar la lista anterior en data frame\n",
    "def klines_to_df(data):  \n",
    "    # Nombres de las columnas en https://www.programcreek.com/python/?CodeExample=get+klines\n",
    "    col_names = ['Open_time', 'Open', 'High', 'Low', 'Close', 'Volume', \n",
    "                 'Close_time', 'Quote_asset_volume', 'Number_of_trades', \n",
    "                'Taker_buy_base_asset_volume', 'Taker_buy_quote_asset_volume', 'Can_be_ignored']\n",
    "    data = pd.DataFrame(data, columns = col_names)\n",
    "    \n",
    "    # Limpieza y Tipos de datos\n",
    "    data[\"Open_time\"] = pd.to_datetime(data[\"Open_time\"], unit = \"ms\")\n",
    "    data[\"Close_time\"] = pd.to_datetime(data[\"Close_time\"], unit = \"ms\")\n",
    "    data['Open'] = data['Open'].astype(np.float32)\n",
    "    data['High'] = data['High'].astype(np.float32)\n",
    "    data['Low'] = data['Low'].astype(np.float32)\n",
    "    data['Close'] = data['Close'].astype(np.float32)\n",
    "    data['Number_of_trades'] = data['Number_of_trades'].astype(np.int32)\n",
    "    \n",
    "    return data"
   ]
  },
  {
   "cell_type": "code",
   "execution_count": 5,
   "id": "5b61d363",
   "metadata": {
    "scrolled": false
   },
   "outputs": [
    {
     "data": {
      "text/html": [
       "<div>\n",
       "<style scoped>\n",
       "    .dataframe tbody tr th:only-of-type {\n",
       "        vertical-align: middle;\n",
       "    }\n",
       "\n",
       "    .dataframe tbody tr th {\n",
       "        vertical-align: top;\n",
       "    }\n",
       "\n",
       "    .dataframe thead th {\n",
       "        text-align: right;\n",
       "    }\n",
       "</style>\n",
       "<table border=\"1\" class=\"dataframe\">\n",
       "  <thead>\n",
       "    <tr style=\"text-align: right;\">\n",
       "      <th></th>\n",
       "      <th>Open_time</th>\n",
       "      <th>Open</th>\n",
       "      <th>High</th>\n",
       "      <th>Low</th>\n",
       "      <th>Close</th>\n",
       "      <th>Volume</th>\n",
       "      <th>Close_time</th>\n",
       "      <th>Quote_asset_volume</th>\n",
       "      <th>Number_of_trades</th>\n",
       "      <th>Taker_buy_base_asset_volume</th>\n",
       "      <th>Taker_buy_quote_asset_volume</th>\n",
       "      <th>Can_be_ignored</th>\n",
       "    </tr>\n",
       "  </thead>\n",
       "  <tbody>\n",
       "    <tr>\n",
       "      <th>0</th>\n",
       "      <td>2021-07-23 06:00:00</td>\n",
       "      <td>32622.369141</td>\n",
       "      <td>32639.419922</td>\n",
       "      <td>32490.000000</td>\n",
       "      <td>32574.990234</td>\n",
       "      <td>1596.52892000</td>\n",
       "      <td>2021-07-23 06:59:59.999</td>\n",
       "      <td>51996878.65590617</td>\n",
       "      <td>32294</td>\n",
       "      <td>805.45054800</td>\n",
       "      <td>26231329.12541423</td>\n",
       "      <td>0</td>\n",
       "    </tr>\n",
       "    <tr>\n",
       "      <th>1</th>\n",
       "      <td>2021-07-23 07:00:00</td>\n",
       "      <td>32576.000000</td>\n",
       "      <td>32598.029297</td>\n",
       "      <td>32360.669922</td>\n",
       "      <td>32490.000000</td>\n",
       "      <td>1845.65833200</td>\n",
       "      <td>2021-07-23 07:59:59.999</td>\n",
       "      <td>59915033.43579602</td>\n",
       "      <td>31461</td>\n",
       "      <td>878.83864600</td>\n",
       "      <td>28526142.81977229</td>\n",
       "      <td>0</td>\n",
       "    </tr>\n",
       "    <tr>\n",
       "      <th>2</th>\n",
       "      <td>2021-07-23 08:00:00</td>\n",
       "      <td>32489.990234</td>\n",
       "      <td>32540.199219</td>\n",
       "      <td>32285.570312</td>\n",
       "      <td>32318.750000</td>\n",
       "      <td>2198.49338600</td>\n",
       "      <td>2021-07-23 08:59:59.999</td>\n",
       "      <td>71271688.11015983</td>\n",
       "      <td>51799</td>\n",
       "      <td>946.91087600</td>\n",
       "      <td>30704826.67123945</td>\n",
       "      <td>0</td>\n",
       "    </tr>\n",
       "    <tr>\n",
       "      <th>3</th>\n",
       "      <td>2021-07-23 09:00:00</td>\n",
       "      <td>32318.750000</td>\n",
       "      <td>32475.000000</td>\n",
       "      <td>32266.000000</td>\n",
       "      <td>32325.169922</td>\n",
       "      <td>1749.05040100</td>\n",
       "      <td>2021-07-23 09:59:59.999</td>\n",
       "      <td>56644164.61633146</td>\n",
       "      <td>91839</td>\n",
       "      <td>716.03881300</td>\n",
       "      <td>23188640.64508193</td>\n",
       "      <td>0</td>\n",
       "    </tr>\n",
       "    <tr>\n",
       "      <th>4</th>\n",
       "      <td>2021-07-23 10:00:00</td>\n",
       "      <td>32324.519531</td>\n",
       "      <td>32384.660156</td>\n",
       "      <td>32210.000000</td>\n",
       "      <td>32330.300781</td>\n",
       "      <td>1590.23360200</td>\n",
       "      <td>2021-07-23 10:59:59.999</td>\n",
       "      <td>51357266.65047123</td>\n",
       "      <td>60857</td>\n",
       "      <td>746.60240700</td>\n",
       "      <td>24113685.90510659</td>\n",
       "      <td>0</td>\n",
       "    </tr>\n",
       "    <tr>\n",
       "      <th>...</th>\n",
       "      <td>...</td>\n",
       "      <td>...</td>\n",
       "      <td>...</td>\n",
       "      <td>...</td>\n",
       "      <td>...</td>\n",
       "      <td>...</td>\n",
       "      <td>...</td>\n",
       "      <td>...</td>\n",
       "      <td>...</td>\n",
       "      <td>...</td>\n",
       "      <td>...</td>\n",
       "      <td>...</td>\n",
       "    </tr>\n",
       "    <tr>\n",
       "      <th>495</th>\n",
       "      <td>2021-08-12 21:00:00</td>\n",
       "      <td>44474.960938</td>\n",
       "      <td>44538.000000</td>\n",
       "      <td>44142.000000</td>\n",
       "      <td>44242.128906</td>\n",
       "      <td>1127.54819500</td>\n",
       "      <td>2021-08-12 21:59:59.999</td>\n",
       "      <td>49965362.91785404</td>\n",
       "      <td>39702</td>\n",
       "      <td>524.70330700</td>\n",
       "      <td>23251377.62313275</td>\n",
       "      <td>0</td>\n",
       "    </tr>\n",
       "    <tr>\n",
       "      <th>496</th>\n",
       "      <td>2021-08-12 22:00:00</td>\n",
       "      <td>44242.128906</td>\n",
       "      <td>44295.378906</td>\n",
       "      <td>43855.878906</td>\n",
       "      <td>43954.589844</td>\n",
       "      <td>1451.94004700</td>\n",
       "      <td>2021-08-12 22:59:59.999</td>\n",
       "      <td>63937321.05592978</td>\n",
       "      <td>45436</td>\n",
       "      <td>652.55773500</td>\n",
       "      <td>28736831.84658941</td>\n",
       "      <td>0</td>\n",
       "    </tr>\n",
       "    <tr>\n",
       "      <th>497</th>\n",
       "      <td>2021-08-12 23:00:00</td>\n",
       "      <td>43954.421875</td>\n",
       "      <td>44535.988281</td>\n",
       "      <td>43948.378906</td>\n",
       "      <td>44399.000000</td>\n",
       "      <td>1753.36767700</td>\n",
       "      <td>2021-08-12 23:59:59.999</td>\n",
       "      <td>77719346.31988542</td>\n",
       "      <td>48016</td>\n",
       "      <td>888.30920500</td>\n",
       "      <td>39365940.33153207</td>\n",
       "      <td>0</td>\n",
       "    </tr>\n",
       "    <tr>\n",
       "      <th>498</th>\n",
       "      <td>2021-08-13 00:00:00</td>\n",
       "      <td>44400.058594</td>\n",
       "      <td>44675.691406</td>\n",
       "      <td>44217.390625</td>\n",
       "      <td>44493.691406</td>\n",
       "      <td>2803.71791300</td>\n",
       "      <td>2021-08-13 00:59:59.999</td>\n",
       "      <td>124738547.32793054</td>\n",
       "      <td>131116</td>\n",
       "      <td>1462.23033700</td>\n",
       "      <td>65048016.82487806</td>\n",
       "      <td>0</td>\n",
       "    </tr>\n",
       "    <tr>\n",
       "      <th>499</th>\n",
       "      <td>2021-08-13 01:00:00</td>\n",
       "      <td>44493.691406</td>\n",
       "      <td>44579.988281</td>\n",
       "      <td>44493.679688</td>\n",
       "      <td>44518.671875</td>\n",
       "      <td>60.71294200</td>\n",
       "      <td>2021-08-13 01:59:59.999</td>\n",
       "      <td>2704190.27761343</td>\n",
       "      <td>554</td>\n",
       "      <td>24.43929400</td>\n",
       "      <td>1088556.95787201</td>\n",
       "      <td>0</td>\n",
       "    </tr>\n",
       "  </tbody>\n",
       "</table>\n",
       "<p>500 rows × 12 columns</p>\n",
       "</div>"
      ],
      "text/plain": [
       "              Open_time          Open          High           Low  \\\n",
       "0   2021-07-23 06:00:00  32622.369141  32639.419922  32490.000000   \n",
       "1   2021-07-23 07:00:00  32576.000000  32598.029297  32360.669922   \n",
       "2   2021-07-23 08:00:00  32489.990234  32540.199219  32285.570312   \n",
       "3   2021-07-23 09:00:00  32318.750000  32475.000000  32266.000000   \n",
       "4   2021-07-23 10:00:00  32324.519531  32384.660156  32210.000000   \n",
       "..                  ...           ...           ...           ...   \n",
       "495 2021-08-12 21:00:00  44474.960938  44538.000000  44142.000000   \n",
       "496 2021-08-12 22:00:00  44242.128906  44295.378906  43855.878906   \n",
       "497 2021-08-12 23:00:00  43954.421875  44535.988281  43948.378906   \n",
       "498 2021-08-13 00:00:00  44400.058594  44675.691406  44217.390625   \n",
       "499 2021-08-13 01:00:00  44493.691406  44579.988281  44493.679688   \n",
       "\n",
       "            Close         Volume              Close_time  Quote_asset_volume  \\\n",
       "0    32574.990234  1596.52892000 2021-07-23 06:59:59.999   51996878.65590617   \n",
       "1    32490.000000  1845.65833200 2021-07-23 07:59:59.999   59915033.43579602   \n",
       "2    32318.750000  2198.49338600 2021-07-23 08:59:59.999   71271688.11015983   \n",
       "3    32325.169922  1749.05040100 2021-07-23 09:59:59.999   56644164.61633146   \n",
       "4    32330.300781  1590.23360200 2021-07-23 10:59:59.999   51357266.65047123   \n",
       "..            ...            ...                     ...                 ...   \n",
       "495  44242.128906  1127.54819500 2021-08-12 21:59:59.999   49965362.91785404   \n",
       "496  43954.589844  1451.94004700 2021-08-12 22:59:59.999   63937321.05592978   \n",
       "497  44399.000000  1753.36767700 2021-08-12 23:59:59.999   77719346.31988542   \n",
       "498  44493.691406  2803.71791300 2021-08-13 00:59:59.999  124738547.32793054   \n",
       "499  44518.671875    60.71294200 2021-08-13 01:59:59.999    2704190.27761343   \n",
       "\n",
       "     Number_of_trades Taker_buy_base_asset_volume  \\\n",
       "0               32294                805.45054800   \n",
       "1               31461                878.83864600   \n",
       "2               51799                946.91087600   \n",
       "3               91839                716.03881300   \n",
       "4               60857                746.60240700   \n",
       "..                ...                         ...   \n",
       "495             39702                524.70330700   \n",
       "496             45436                652.55773500   \n",
       "497             48016                888.30920500   \n",
       "498            131116               1462.23033700   \n",
       "499               554                 24.43929400   \n",
       "\n",
       "    Taker_buy_quote_asset_volume Can_be_ignored  \n",
       "0              26231329.12541423              0  \n",
       "1              28526142.81977229              0  \n",
       "2              30704826.67123945              0  \n",
       "3              23188640.64508193              0  \n",
       "4              24113685.90510659              0  \n",
       "..                           ...            ...  \n",
       "495            23251377.62313275              0  \n",
       "496            28736831.84658941              0  \n",
       "497            39365940.33153207              0  \n",
       "498            65048016.82487806              0  \n",
       "499             1088556.95787201              0  \n",
       "\n",
       "[500 rows x 12 columns]"
      ]
     },
     "execution_count": 5,
     "metadata": {},
     "output_type": "execute_result"
    }
   ],
   "source": [
    "klines_to_df(klines)"
   ]
  },
  {
   "cell_type": "markdown",
   "id": "d8e69daf",
   "metadata": {},
   "source": [
    "# Automatización"
   ]
  },
  {
   "cell_type": "code",
   "execution_count": 6,
   "id": "50dbee2f",
   "metadata": {},
   "outputs": [],
   "source": [
    "# Automatización: obtener los precios de varias criptomonedas\n",
    "url = 'https://api.binance.com/api/v3/klines' # Velas Japonesas\n",
    "criptomonedas = ['BTCUSDT', 'ADAUSDT', 'SHIBUSDT', 'ETHUSDT']\n",
    "intervalo = \"1h\" # m -> minutes; h -> hours; d -> days; w -> weeks; M -> months\n",
    "lista_df = []\n",
    "for cripto in criptomonedas:\n",
    "    try:\n",
    "        params = {\n",
    "              'symbol': cripto,\n",
    "              'interval': intervalo\n",
    "                 }\n",
    "        response = requests.get(url, params = params)\n",
    "        velas = klines_to_df(response.json())\n",
    "        velas[\"cripto\"] = cripto # Columna con nombre de la criptomoneda\n",
    "        lista_df.append(velas)\n",
    "    except:\n",
    "        print(\"Hubo en error al consultar las velas japonesas para:\", cripto)"
   ]
  },
  {
   "cell_type": "code",
   "execution_count": 7,
   "id": "f29412b8",
   "metadata": {},
   "outputs": [],
   "source": [
    "# Uniendo dataframes\n",
    "criptos_df = pd.concat(lista_df)"
   ]
  },
  {
   "cell_type": "markdown",
   "id": "e12d3ac9",
   "metadata": {},
   "source": [
    "# Exploración Data Set"
   ]
  },
  {
   "cell_type": "code",
   "execution_count": 8,
   "id": "a2818867",
   "metadata": {},
   "outputs": [
    {
     "name": "stdout",
     "output_type": "stream",
     "text": [
      "<class 'pandas.core.frame.DataFrame'>\n",
      "Int64Index: 2000 entries, 0 to 499\n",
      "Data columns (total 13 columns):\n",
      " #   Column                        Non-Null Count  Dtype         \n",
      "---  ------                        --------------  -----         \n",
      " 0   Open_time                     2000 non-null   datetime64[ns]\n",
      " 1   Open                          2000 non-null   float32       \n",
      " 2   High                          2000 non-null   float32       \n",
      " 3   Low                           2000 non-null   float32       \n",
      " 4   Close                         2000 non-null   float32       \n",
      " 5   Volume                        2000 non-null   object        \n",
      " 6   Close_time                    2000 non-null   datetime64[ns]\n",
      " 7   Quote_asset_volume            2000 non-null   object        \n",
      " 8   Number_of_trades              2000 non-null   int32         \n",
      " 9   Taker_buy_base_asset_volume   2000 non-null   object        \n",
      " 10  Taker_buy_quote_asset_volume  2000 non-null   object        \n",
      " 11  Can_be_ignored                2000 non-null   object        \n",
      " 12  cripto                        2000 non-null   object        \n",
      "dtypes: datetime64[ns](2), float32(4), int32(1), object(6)\n",
      "memory usage: 179.7+ KB\n"
     ]
    }
   ],
   "source": [
    "criptos_df.info()"
   ]
  },
  {
   "cell_type": "code",
   "execution_count": 9,
   "id": "cd87a028",
   "metadata": {},
   "outputs": [
    {
     "data": {
      "text/plain": [
       "(2000, 13)"
      ]
     },
     "execution_count": 9,
     "metadata": {},
     "output_type": "execute_result"
    }
   ],
   "source": [
    "criptos_df.shape"
   ]
  },
  {
   "cell_type": "code",
   "execution_count": 10,
   "id": "4772cd16",
   "metadata": {},
   "outputs": [
    {
     "data": {
      "text/plain": [
       "array(['BTCUSDT', 'ADAUSDT', 'SHIBUSDT', 'ETHUSDT'], dtype=object)"
      ]
     },
     "execution_count": 10,
     "metadata": {},
     "output_type": "execute_result"
    }
   ],
   "source": [
    "# Criptomonedas\n",
    "criptos_df.cripto.unique()"
   ]
  },
  {
   "cell_type": "code",
   "execution_count": 11,
   "id": "2e6cfabc",
   "metadata": {},
   "outputs": [
    {
     "data": {
      "text/plain": [
       "Index(['Open_time', 'Open', 'High', 'Low', 'Close', 'Volume', 'Close_time',\n",
       "       'Quote_asset_volume', 'Number_of_trades', 'Taker_buy_base_asset_volume',\n",
       "       'Taker_buy_quote_asset_volume', 'Can_be_ignored', 'cripto'],\n",
       "      dtype='object')"
      ]
     },
     "execution_count": 11,
     "metadata": {},
     "output_type": "execute_result"
    }
   ],
   "source": [
    "criptos_df.columns"
   ]
  },
  {
   "cell_type": "code",
   "execution_count": 12,
   "id": "81d04f76",
   "metadata": {},
   "outputs": [
    {
     "data": {
      "text/html": [
       "<div>\n",
       "<style scoped>\n",
       "    .dataframe tbody tr th:only-of-type {\n",
       "        vertical-align: middle;\n",
       "    }\n",
       "\n",
       "    .dataframe tbody tr th {\n",
       "        vertical-align: top;\n",
       "    }\n",
       "\n",
       "    .dataframe thead th {\n",
       "        text-align: right;\n",
       "    }\n",
       "</style>\n",
       "<table border=\"1\" class=\"dataframe\">\n",
       "  <thead>\n",
       "    <tr style=\"text-align: right;\">\n",
       "      <th></th>\n",
       "      <th>Open_time</th>\n",
       "      <th>Open</th>\n",
       "      <th>High</th>\n",
       "      <th>Low</th>\n",
       "      <th>Close</th>\n",
       "      <th>Volume</th>\n",
       "      <th>Close_time</th>\n",
       "      <th>Quote_asset_volume</th>\n",
       "      <th>Number_of_trades</th>\n",
       "      <th>Taker_buy_base_asset_volume</th>\n",
       "      <th>Taker_buy_quote_asset_volume</th>\n",
       "      <th>Can_be_ignored</th>\n",
       "      <th>cripto</th>\n",
       "    </tr>\n",
       "  </thead>\n",
       "  <tbody>\n",
       "    <tr>\n",
       "      <th>0</th>\n",
       "      <td>2021-07-23 06:00:00</td>\n",
       "      <td>32622.369141</td>\n",
       "      <td>32639.419922</td>\n",
       "      <td>32490.000000</td>\n",
       "      <td>32574.990234</td>\n",
       "      <td>1596.52892000</td>\n",
       "      <td>2021-07-23 06:59:59.999</td>\n",
       "      <td>51996878.65590617</td>\n",
       "      <td>32294</td>\n",
       "      <td>805.45054800</td>\n",
       "      <td>26231329.12541423</td>\n",
       "      <td>0</td>\n",
       "      <td>BTCUSDT</td>\n",
       "    </tr>\n",
       "    <tr>\n",
       "      <th>1</th>\n",
       "      <td>2021-07-23 07:00:00</td>\n",
       "      <td>32576.000000</td>\n",
       "      <td>32598.029297</td>\n",
       "      <td>32360.669922</td>\n",
       "      <td>32490.000000</td>\n",
       "      <td>1845.65833200</td>\n",
       "      <td>2021-07-23 07:59:59.999</td>\n",
       "      <td>59915033.43579602</td>\n",
       "      <td>31461</td>\n",
       "      <td>878.83864600</td>\n",
       "      <td>28526142.81977229</td>\n",
       "      <td>0</td>\n",
       "      <td>BTCUSDT</td>\n",
       "    </tr>\n",
       "    <tr>\n",
       "      <th>2</th>\n",
       "      <td>2021-07-23 08:00:00</td>\n",
       "      <td>32489.990234</td>\n",
       "      <td>32540.199219</td>\n",
       "      <td>32285.570312</td>\n",
       "      <td>32318.750000</td>\n",
       "      <td>2198.49338600</td>\n",
       "      <td>2021-07-23 08:59:59.999</td>\n",
       "      <td>71271688.11015983</td>\n",
       "      <td>51799</td>\n",
       "      <td>946.91087600</td>\n",
       "      <td>30704826.67123945</td>\n",
       "      <td>0</td>\n",
       "      <td>BTCUSDT</td>\n",
       "    </tr>\n",
       "    <tr>\n",
       "      <th>3</th>\n",
       "      <td>2021-07-23 09:00:00</td>\n",
       "      <td>32318.750000</td>\n",
       "      <td>32475.000000</td>\n",
       "      <td>32266.000000</td>\n",
       "      <td>32325.169922</td>\n",
       "      <td>1749.05040100</td>\n",
       "      <td>2021-07-23 09:59:59.999</td>\n",
       "      <td>56644164.61633146</td>\n",
       "      <td>91839</td>\n",
       "      <td>716.03881300</td>\n",
       "      <td>23188640.64508193</td>\n",
       "      <td>0</td>\n",
       "      <td>BTCUSDT</td>\n",
       "    </tr>\n",
       "    <tr>\n",
       "      <th>4</th>\n",
       "      <td>2021-07-23 10:00:00</td>\n",
       "      <td>32324.519531</td>\n",
       "      <td>32384.660156</td>\n",
       "      <td>32210.000000</td>\n",
       "      <td>32330.300781</td>\n",
       "      <td>1590.23360200</td>\n",
       "      <td>2021-07-23 10:59:59.999</td>\n",
       "      <td>51357266.65047123</td>\n",
       "      <td>60857</td>\n",
       "      <td>746.60240700</td>\n",
       "      <td>24113685.90510659</td>\n",
       "      <td>0</td>\n",
       "      <td>BTCUSDT</td>\n",
       "    </tr>\n",
       "  </tbody>\n",
       "</table>\n",
       "</div>"
      ],
      "text/plain": [
       "            Open_time          Open          High           Low         Close  \\\n",
       "0 2021-07-23 06:00:00  32622.369141  32639.419922  32490.000000  32574.990234   \n",
       "1 2021-07-23 07:00:00  32576.000000  32598.029297  32360.669922  32490.000000   \n",
       "2 2021-07-23 08:00:00  32489.990234  32540.199219  32285.570312  32318.750000   \n",
       "3 2021-07-23 09:00:00  32318.750000  32475.000000  32266.000000  32325.169922   \n",
       "4 2021-07-23 10:00:00  32324.519531  32384.660156  32210.000000  32330.300781   \n",
       "\n",
       "          Volume              Close_time Quote_asset_volume  Number_of_trades  \\\n",
       "0  1596.52892000 2021-07-23 06:59:59.999  51996878.65590617             32294   \n",
       "1  1845.65833200 2021-07-23 07:59:59.999  59915033.43579602             31461   \n",
       "2  2198.49338600 2021-07-23 08:59:59.999  71271688.11015983             51799   \n",
       "3  1749.05040100 2021-07-23 09:59:59.999  56644164.61633146             91839   \n",
       "4  1590.23360200 2021-07-23 10:59:59.999  51357266.65047123             60857   \n",
       "\n",
       "  Taker_buy_base_asset_volume Taker_buy_quote_asset_volume Can_be_ignored  \\\n",
       "0                805.45054800            26231329.12541423              0   \n",
       "1                878.83864600            28526142.81977229              0   \n",
       "2                946.91087600            30704826.67123945              0   \n",
       "3                716.03881300            23188640.64508193              0   \n",
       "4                746.60240700            24113685.90510659              0   \n",
       "\n",
       "    cripto  \n",
       "0  BTCUSDT  \n",
       "1  BTCUSDT  \n",
       "2  BTCUSDT  \n",
       "3  BTCUSDT  \n",
       "4  BTCUSDT  "
      ]
     },
     "execution_count": 12,
     "metadata": {},
     "output_type": "execute_result"
    }
   ],
   "source": [
    "criptos_df.head()"
   ]
  },
  {
   "cell_type": "code",
   "execution_count": 13,
   "id": "7d05bb04",
   "metadata": {},
   "outputs": [
    {
     "data": {
      "text/plain": [
       "array([<AxesSubplot:xlabel='Close_time'>,\n",
       "       <AxesSubplot:xlabel='Close_time'>,\n",
       "       <AxesSubplot:xlabel='Close_time'>,\n",
       "       <AxesSubplot:xlabel='Close_time'>], dtype=object)"
      ]
     },
     "execution_count": 13,
     "metadata": {},
     "output_type": "execute_result"
    },
    {
     "data": {
      "image/png": "[encoded data removed]",
      "text/plain": [
       "<Figure size 432x288 with 4 Axes>"
      ]
     },
     "metadata": {
      "needs_background": "light"
     },
     "output_type": "display_data"
    }
   ],
   "source": [
    "# Serie de tiempo de las precios\n",
    "pd.pivot_table(criptos_df, values = [\"Close\"], index = [\"Close_time\"], columns = [\"cripto\"]).plot(subplots = True)"
   ]
  },
  {
   "cell_type": "markdown",
   "id": "acced90c",
   "metadata": {},
   "source": [
    "# Anexo"
   ]
  },
  {
   "cell_type": "markdown",
   "id": "33279c7c",
   "metadata": {},
   "source": [
    "Obtener varios pares de criptomonedas(nombres)"
   ]
  },
  {
   "cell_type": "code",
   "execution_count": null,
   "id": "72e0cff5",
   "metadata": {
    "scrolled": true
   },
   "outputs": [],
   "source": [
    "# Pares de criptomonedas por ejemplo: EHTUSDT\n",
    "import pandas as pd\n",
    "import requests\n",
    "\n",
    "endpoint = \"https://api.binance.com/api/v3/ticker/price\"\n",
    "payload = {'api_key': 'tu_api_key_va_aqui'}\n",
    "r = requests.get(endpoint)\n",
    "r.status_code\n",
    "r.json()"
   ]
  }
 ],
 "metadata": {
  "kernelspec": {
   "display_name": "Python 3",
   "language": "python",
   "name": "python3"
  },
  "language_info": {
   "codemirror_mode": {
    "name": "ipython",
    "version": 3
   },
   "file_extension": ".py",
   "mimetype": "text/x-python",
   "name": "python",
   "nbconvert_exporter": "python",
   "pygments_lexer": "ipython3",
   "version": "3.8.8"
  },
  "toc": {
   "base_numbering": 1,
   "nav_menu": {},
   "number_sections": false,
   "sideBar": true,
   "skip_h1_title": false,
   "title_cell": "Table of Contents",
   "title_sidebar": "Contents",
   "toc_cell": false,
   "toc_position": {},
   "toc_section_display": true,
   "toc_window_display": false
  }
 },
 "nbformat": 4,
 "nbformat_minor": 5
}
